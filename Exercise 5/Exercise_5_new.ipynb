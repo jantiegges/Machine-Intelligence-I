{
 "cells": [
  {
   "cell_type": "code",
   "execution_count": 1,
   "id": "dd9cae02",
   "metadata": {},
   "outputs": [],
   "source": [
    "import numpy as np\n",
    "import os"
   ]
  },
  {
   "cell_type": "code",
   "execution_count": 1,
   "outputs": [],
   "source": [],
   "metadata": {
    "collapsed": false,
    "pycharm": {
     "name": "#%%\n"
    }
   }
  },
  {
   "cell_type": "code",
   "execution_count": 2,
   "outputs": [],
   "source": [
    "# load own package\n",
    "os.chdir(\"/Users/jantiegges/Google Drive/Uni/1. Semester/Machine Intelligence I/Machine-Intelligence-I/ML_ressources\")\n",
    "\n",
    "from plot import plot_data"
   ],
   "metadata": {
    "collapsed": false,
    "pycharm": {
     "name": "#%%\n"
    }
   }
  },
  {
   "cell_type": "code",
   "execution_count": 7,
   "id": "aa757178",
   "metadata": {},
   "outputs": [],
   "source": [
    "def plot(ax, data, enum=False, title='', labels=None, legend=False, **kwargs):\n",
    "    plotted = None\n",
    "    if enum:\n",
    "        plotted = ax.plot(data)\n",
    "    else:\n",
    "        mapping = np.array(data).T\n",
    "        plotted = ax.plot(mapping[0], mapping[1], **kwargs)\n",
    "    if labels:\n",
    "        ax.set_xlabel(labels[0])\n",
    "        if (len(labels) > 1):\n",
    "            ax.set_ylabel(labels[1])\n",
    "    if legend:\n",
    "        ax.legend(bbox_to_anchor=(1.05, 1), loc=2, borderaxespad=0)\n",
    "    ax.set_title(title)\n",
    "    ax.grid(True)\n",
    "    return plotted\n",
    "\n",
    "def scatter(ax, data, enum=False, title='', labels=None, legend=False, **kwargs):\n",
    "    scattered = None\n",
    "    if enum:\n",
    "        scattered = ax.scatter(range(len(data)), data, **kwargs)\n",
    "    else:\n",
    "        mapping = np.array(data).T\n",
    "        scattered = ax.scatter(mapping[0], mapping[1], **kwargs)\n",
    "    if labels:\n",
    "        ax.set_xlabel(labels[0])\n",
    "        if (len(labels) > 1):\n",
    "            ax.set_ylabel(labels[1])\n",
    "    if legend:\n",
    "        ax.legend(bbox_to_anchor=(1.05, 1), loc=2, borderaxespad=0)\n",
    "    ax.set_title(title)\n",
    "    ax.grid(True)\n",
    "    ax.scatter(*np.mean(data, axis=0), color='red', s=40)\n",
    "    return scattered\n",
    "\n",
    "def plot_ridge(ridge):\n",
    "    fig = plt.figure(figsize=(12, 3))\n",
    "    ax1 = fig.add_subplot(131, projection='3d')\n",
    "    ax1.scatter(*ridge.T)\n",
    "    ax1.set_xticks(ax1.get_xticks()[::2])\n",
    "    ax1.set_yticks(ax1.get_yticks()[::2])\n",
    "    ax1.set_zticks(ax1.get_zticks()[::2])\n",
    "    ax1.set_xlabel('x1')\n",
    "    ax1.set_ylabel('x2')\n",
    "    ax1.set_zlabel('y')\n",
    "    ax1.scatter(*ridge.mean(axis=0), color='red', s=70)\n",
    "    ax2 = fig.add_subplot(132)\n",
    "    scatter(ax2, ridge[:, [0, 2]], labels=['x1', 'y'])\n",
    "    ax2.set_xticks(ax2.get_xticks()[::2])\n",
    "    ax3 = fig.add_subplot(133)\n",
    "    scatter(ax3, ridge[:, [1, 2]], labels=['x2', 'y'])\n",
    "    fig.tight_layout()\n",
    "\n",
    "def scatter_set(data1, data2, titles=['Training set', 'Validation set']):\n",
    "    min_ = min(np.concatenate([data1[:, 2], data2[:, 2]]))\n",
    "    max_ = max(np.concatenate([data1[:, 2], data2[:, 2]]))\n",
    "    fig, axes = plt.subplots(1, 2, figsize=(13, 4))\n",
    "    for data, ax, title in zip([data1, data2], axes, titles):\n",
    "        dataX = data[:, :2]\n",
    "        dataY = data[:, 2]\n",
    "        C = dataX.T.dot(dataX) / dataX.shape[0]\n",
    "        _, ev = np.linalg.eigh(C)\n",
    "        scatter_ax = scatter(ax, dataX, c=dataY, vmin=min_, vmax=max_, s=np.sqrt(dataY / max_) * 100, title=title)\n",
    "        ax.arrow(0, 0, *ev[0], head_width=0.2, head_length=0.1, fc='k', ec='k')\n",
    "        ax.arrow(0, 0, *ev[1], head_width=0.2, head_length=0.1, fc='k', ec='k')\n",
    "    fig.subplots_adjust(right=0.85)\n",
    "    fig.colorbar(scatter_ax, cmap='jet', cax=fig.add_axes([0.9, 0.15, 0.03, 0.7]))\n",
    "    \n",
    "def plot_heatmaps(monomials):\n",
    "    powers = np.array([[0, 0], [1, 0], [0, 1], [2, 0], [1, 1], [0, 2], [3, 0], [2, 1], [1, 2], [0, 3]])\n",
    "    fig, axes = plt.subplots(5, 2, figsize=(10, 16))\n",
    "    for row, axesRow in enumerate(axes):\n",
    "        for col, ax in enumerate(axesRow):\n",
    "            i = row * 2 + col\n",
    "            max_ = 5  # monomials[i, :10].max()\n",
    "            img = ax.imshow(monomials[i, :10].T, extent=[-40, 40, -35, 35], aspect='auto', vmin=-max_, vmax=max_)\n",
    "            cax = plt_ax.make_axes_locatable(ax).append_axes(\"right\", size=\"5%\", pad=0.05)\n",
    "            cbar = plt.colorbar(img, cax=cax)\n",
    "            ax.set_title(r'$degree = {}, \\phi_{} = x_1^{} x_2^{}$'.format(powers[i].sum(), i, *powers[i]))\n",
    "            ax.set_ylabel('x1')\n",
    "            ax.set_xlabel('x2')\n",
    "    fig.subplots_adjust(hspace=.4, wspace=.3)\n",
    "\n",
    "def plot_mse(MSE, lambda_index='T'):\n",
    "    fig, ax = plt.subplots(1, 1, figsize=(13, 4))\n",
    "    meanlineprops = dict(linestyle='--', linewidth=2.5, color='green')\n",
    "    ax.boxplot(MSE.T, meanprops=meanlineprops, meanline=True, showmeans=True)\n",
    "    ax.set_yscale('log')\n",
    "    means = MSE.T.mean(axis=0)\n",
    "    best_mse_index = np.argmin(means)\n",
    "    ax.set_title(r'Boxplots for each lambda  -  $avg_{{min}} = {:.2f}$ at $\\lambda_{} = 10^{{{:.1f}}}$'.format(\n",
    "        means[best_mse_index], lambda_index, np.linspace(-4, 4, 81)[best_mse_index]))\n",
    "    ax.grid(True)\n",
    "    ax.set_xticks(ax.get_xticks()[::10])\n",
    "    ax.set_xticklabels([r'$10^{{{}}}$'.format(x) for x in range(-4, 5)])"
   ]
  },
  {
   "cell_type": "code",
   "execution_count": null,
   "id": "213f78a9",
   "metadata": {},
   "outputs": [],
   "source": [
    "# Array of 200 observations {x_n, y_n} with x_n = [x_n_1, x_n_2]\n",
    "training_ridge = np.loadtxt('TrainingRidge.csv', skiprows=1, dtype=bytes, delimiter=',').astype(np.float64)\n",
    "plot_ridge(training_ridge)\n",
    "# Array of 1476 combinations for [x_n_1, x_n_2] (36 x 41 grid) in same format\n",
    "validation_ridge = np.loadtxt('ValidationRidge.csv', skiprows=1, dtype=bytes, delimiter=',').astype(np.float64)\n",
    "# data2 = Matrix(np.cov([[S(x1), S(x2), S(y)] for x1, x2, y in (training_ridge - training_ridge.mean(axis=0))]))"
   ]
  },
  {
   "cell_type": "code",
   "execution_count": null,
   "id": "1c9997aa",
   "metadata": {},
   "outputs": [],
   "source": [
    "# Exercise 2 (a)\n",
    "def whiten_data(ridge):\n",
    "    ridge = np.copy(ridge)\n",
    "    data = ridge[:, :2]\n",
    "    # Centering\n",
    "    data -= data.mean(axis=0)\n",
    "    C = data.T.dot(data) / data.shape[0]\n",
    "    w, V = np.linalg.eigh(C)\n",
    "    L = np.diag(np.nan_to_num(1 / np.sqrt(w)))\n",
    "    # Decorrelation\n",
    "    data = V.T.dot(data.T).T\n",
    "    # Whitening\n",
    "    data = L.dot(V.T).dot(data.T).T\n",
    "    ridge[:, :2] = data\n",
    "    return ridge\n",
    "\n",
    "training_whiten = whiten_data(training_ridge)\n",
    "validation_whiten = whiten_data(validation_ridge)\n",
    "scatter_set(training_whiten, validation_whiten)"
   ]
  },
  {
   "cell_type": "code",
   "execution_count": null,
   "id": "b783ca5b",
   "metadata": {},
   "outputs": [],
   "source": [
    "print(validation_whiten.shape)"
   ]
  },
  {
   "cell_type": "code",
   "execution_count": null,
   "id": "ed26ec3a",
   "metadata": {},
   "outputs": [],
   "source": []
  }
 ],
 "metadata": {
  "kernelspec": {
   "display_name": "Python 3",
   "language": "python",
   "name": "python3"
  },
  "language_info": {
   "codemirror_mode": {
    "name": "ipython",
    "version": 3
   },
   "file_extension": ".py",
   "mimetype": "text/x-python",
   "name": "python",
   "nbconvert_exporter": "python",
   "pygments_lexer": "ipython3",
   "version": "3.8.11"
  }
 },
 "nbformat": 4,
 "nbformat_minor": 5
}