{
 "cells": [
  {
   "cell_type": "code",
   "execution_count": 6,
   "id": "0781b329",
   "metadata": {},
   "outputs": [],
   "source": [
    "import numpy as np"
   ]
  },
  {
   "cell_type": "code",
   "execution_count": 202,
   "id": "c944b5f8",
   "metadata": {},
   "outputs": [],
   "source": [
    "class MultiLayerPerceptron():\n",
    "    \n",
    "    def __init__(self):\n",
    "        self.inputLayer = 1\n",
    "        self.hiddenLayer = np.array([3])\n",
    "        self.outputLayer = [1]\n",
    "        self.learningRate = 0.5\n",
    "        self.weights = self.starting_weights()\n",
    "        self.bias = self.starting_bias()\n",
    "        self.transferFunc = np.tanh\n",
    "        self.outputFunc = lambda x: 1*x\n",
    "        \n",
    "    def starting_weights(self):\n",
    "        # init weights\n",
    "                   \n",
    "        weightsTmp = []\n",
    "        \n",
    "        # input layer\n",
    "        x = np.random.uniform(-0.5, 0.5, self.hiddenLayer[0]*self.inputLayer)\n",
    "        weightsTmp.append(x.reshape((self.inputLayer, self.hiddenLayer[0])))\n",
    "            \n",
    "        # further hidden layers\n",
    "        for i in range(1, len(self.hiddenLayer)):\n",
    "            x = np.random.uniform(-0.5, 0.5, self.hiddenLayer[i]*self.hiddenLayer[i-1])\n",
    "            weightsTmp.append(x.reshape((self.hiddenLayer[i-1], self.hiddenLayer[i])))\n",
    "            \n",
    "        # output layer\n",
    "        x = np.random.uniform(-0.5, 0.5, self.hiddenLayer[-1]*self.outputLayer[0])\n",
    "        weightsTmp.append(x.reshape((self.hiddenLayer[-1], self.outputLayer[0])))\n",
    "            \n",
    "        return weightsTmp\n",
    "    \n",
    "    def starting_bias(self):                              \n",
    "        # init bias\n",
    "        biasTmp = []\n",
    "        \n",
    "        # input layer\n",
    "        x = np.random.uniform(-0.5, 0.5, self.hiddenLayer[0])\n",
    "        biasTmp.append(x.reshape((1, self.hiddenLayer[0])))\n",
    "            \n",
    "        # further hidden layers\n",
    "        for i in range(1, len(self.hiddenLayer)):\n",
    "            x = np.random.uniform(-0.5, 0.5, self.hiddenLayer[i])\n",
    "            biasTmp.append(x.reshape((1, self.hiddenLayer[i])))\n",
    "            \n",
    "        # TODO: output bias?\n",
    "            \n",
    "        \n",
    "        return biasTmp\n",
    "    \n",
    "    def forward_propagation(self, x):\n",
    "        # perform forward propagation\n",
    "        \n",
    "        totalInput = []\n",
    "        totalAct = []\n",
    "        \n",
    "        # add single dimension\n",
    "        X = np.expand_dims(x, axis=0)\n",
    "        \n",
    "        # input layer\n",
    "        totalInput.append(np.dot(X, self.weights[0]) + self.bias[0])\n",
    "        totalAct.append(self.transferFunc(totalInput[-1]))\n",
    "        \n",
    "        # hidden layer\n",
    "        for i in range(1, len(self.hiddenLayer)):\n",
    "            totalInput.append(np.dot(totalAct[-1], self.weights[i]) + self.bias[i])\n",
    "            totalAct.append(self.transferFunc(totalInput[-1]))\n",
    "        \n",
    "        # output layer\n",
    "        totalInput.append(np.dot(totalAct[-1], self.weights[-1]))\n",
    "        totalAct.append(self.outputFunc(totalInput[-1]))\n",
    "\n",
    "        return totalInput, totalAct\n",
    "    \n",
    "    def back_propagation(self, x):\n",
    "        \n",
    "        \n",
    "    \n",
    "    def fit(self, x, y):\n",
    "        \n",
    "        pred = []\n",
    "        for elem in x:\n",
    "            totalInput, totalAct = self.forward_propagation(elem)\n",
    "            pred.append(totalAct[-1])\n",
    "        \n",
    "        # get rid of dimensions\n",
    "        pred = np.array(pred)[:,0,0]\n",
    "        \n",
    "        outputError = 0.5 * (y - pred)**2\n",
    "        \n",
    "        \n",
    "        \n",
    "        return(error)\n",
    "        \n",
    "    "
   ]
  },
  {
   "cell_type": "code",
   "execution_count": 204,
   "id": "0adc66d4",
   "metadata": {},
   "outputs": [
    {
     "name": "stdout",
     "output_type": "stream",
     "text": [
      "[1.31109168e-01 4.81766322e-03 3.78559007e-04 3.14610745e-02\n",
      " 3.10764798e-02 4.31370918e-01 3.79243403e-01 1.36738388e-04\n",
      " 2.65899571e-01 7.04206570e-01]\n"
     ]
    }
   ],
   "source": [
    "data = np.genfromtxt(\"RegressionData.txt\")\n",
    "x = data[:, 0]\n",
    "y = data[:, 1]\n",
    "\n",
    "mlp = MultiLayerPerceptron()\n",
    "\n",
    "#totalInput, totalAct = mlp.forward_propagation(x)\n",
    "\n",
    "error = mlp.fit(x, y)\n",
    "print(error)\n"
   ]
  },
  {
   "cell_type": "code",
   "execution_count": 191,
   "id": "27f676e8",
   "metadata": {},
   "outputs": [
    {
     "name": "stdout",
     "output_type": "stream",
     "text": [
      "(10, 3)\n",
      "3\n"
     ]
    }
   ],
   "source": [
    "data = np.genfromtxt(\"RegressionData.txt\")\n",
    "x = data[:, 0]\n",
    "y = data[:, 1]\n",
    "\n",
    "x = np.expand_dims(x, axis=1)\n",
    "\n",
    "X = np.zeros((10,3), dtype=x.dtype) + x\n",
    "print(X.shape)\n",
    "    \n",
    "    \n",
    "z = [3]\n",
    "print(z[-1])"
   ]
  },
  {
   "cell_type": "code",
   "execution_count": null,
   "id": "f3cac52a",
   "metadata": {},
   "outputs": [],
   "source": []
  }
 ],
 "metadata": {
  "kernelspec": {
   "display_name": "Python 3",
   "language": "python",
   "name": "python3"
  },
  "language_info": {
   "codemirror_mode": {
    "name": "ipython",
    "version": 3
   },
   "file_extension": ".py",
   "mimetype": "text/x-python",
   "name": "python",
   "nbconvert_exporter": "python",
   "pygments_lexer": "ipython3",
   "version": "3.8.11"
  }
 },
 "nbformat": 4,
 "nbformat_minor": 5
}
